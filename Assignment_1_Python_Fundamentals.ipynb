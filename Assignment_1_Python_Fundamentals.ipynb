{
  "nbformat": 4,
  "nbformat_minor": 0,
  "metadata": {
    "colab": {
      "provenance": [],
      "authorship_tag": "ABX9TyMOu0tNQeAYaYwz/WrYJroH",
      "include_colab_link": true
    },
    "kernelspec": {
      "name": "python3",
      "display_name": "Python 3"
    },
    "language_info": {
      "name": "python"
    }
  },
  "cells": [
    {
      "cell_type": "markdown",
      "metadata": {
        "id": "view-in-github",
        "colab_type": "text"
      },
      "source": [
        "<a href=\"https://colab.research.google.com/github/Surjithk73/DataScience_TigerAnalytics/blob/main/Assignment_1_Python_Fundamentals.ipynb\" target=\"_parent\"><img src=\"https://colab.research.google.com/assets/colab-badge.svg\" alt=\"Open In Colab\"/></a>"
      ]
    },
    {
      "cell_type": "code",
      "execution_count": null,
      "metadata": {
        "id": "foAD7lBRGVst",
        "colab": {
          "base_uri": "https://localhost:8080/"
        },
        "outputId": "35039fe5-b911-4edf-eb1f-78734f4580d7"
      },
      "outputs": [
        {
          "output_type": "stream",
          "name": "stdout",
          "text": [
            "3,5\n",
            "[[0, 0, 0, 0, 0], [0, 1, 2, 3, 4], [0, 2, 4, 6, 8]]\n"
          ]
        }
      ],
      "source": [
        "#Question 1\n",
        "X, Y = (int(s) for s in input().split(','))\n",
        "result = [[i * j for j in range(Y)] for i in range(X)]\n",
        "print(result)"
      ]
    },
    {
      "cell_type": "code",
      "source": [
        "#Question 2\n",
        "words = input().split(\",\")\n",
        "words.sort()\n",
        "print(','.join(words))"
      ],
      "metadata": {
        "colab": {
          "base_uri": "https://localhost:8080/"
        },
        "id": "JWQFJXGRM9Hg",
        "outputId": "10ceb3b4-03d1-479e-8cc3-4e690f137ab5"
      },
      "execution_count": null,
      "outputs": [
        {
          "output_type": "stream",
          "name": "stdout",
          "text": [
            "without,hello,bag,world\n",
            "bag,hello,without,world\n"
          ]
        }
      ]
    },
    {
      "cell_type": "code",
      "source": [
        "#Question 3\n",
        "words = input().split()\n",
        "unique = sorted(set(words))\n",
        "print(' '.join(unique))"
      ],
      "metadata": {
        "colab": {
          "base_uri": "https://localhost:8080/"
        },
        "id": "MktyXgGRNWo-",
        "outputId": "698a626c-74de-420a-9ced-8e90e3f13180"
      },
      "execution_count": null,
      "outputs": [
        {
          "output_type": "stream",
          "name": "stdout",
          "text": [
            "hello world and practice makes perfect and hello world again\n",
            "again and hello makes perfect practice world\n"
          ]
        }
      ]
    },
    {
      "cell_type": "code",
      "source": [
        "#Question 4\n",
        "output = []\n",
        "for i in range(1000, 3001):\n",
        "    if any(d in '13579' for d in str(i)):\n",
        "        continue\n",
        "    else:\n",
        "        output.append(str(i))\n",
        "print(','.join(output))"
      ],
      "metadata": {
        "colab": {
          "base_uri": "https://localhost:8080/"
        },
        "id": "94rICWJONuKk",
        "outputId": "51454f95-f7d1-40b3-9a0c-c9a83893c003"
      },
      "execution_count": null,
      "outputs": [
        {
          "output_type": "stream",
          "name": "stdout",
          "text": [
            "2000,2002,2004,2006,2008,2020,2022,2024,2026,2028,2040,2042,2044,2046,2048,2060,2062,2064,2066,2068,2080,2082,2084,2086,2088,2200,2202,2204,2206,2208,2220,2222,2224,2226,2228,2240,2242,2244,2246,2248,2260,2262,2264,2266,2268,2280,2282,2284,2286,2288,2400,2402,2404,2406,2408,2420,2422,2424,2426,2428,2440,2442,2444,2446,2448,2460,2462,2464,2466,2468,2480,2482,2484,2486,2488,2600,2602,2604,2606,2608,2620,2622,2624,2626,2628,2640,2642,2644,2646,2648,2660,2662,2664,2666,2668,2680,2682,2684,2686,2688,2800,2802,2804,2806,2808,2820,2822,2824,2826,2828,2840,2842,2844,2846,2848,2860,2862,2864,2866,2868,2880,2882,2884,2886,2888\n"
          ]
        }
      ]
    },
    {
      "cell_type": "code",
      "source": [
        "#Question 5\n",
        "word=input()\n",
        "l = sum(c.isalpha() for c in word)\n",
        "d = sum(c.isdigit() for c in word)\n",
        "print(\"LETTERS\",l)\n",
        "print(\"DIGITS\",d)"
      ],
      "metadata": {
        "colab": {
          "base_uri": "https://localhost:8080/"
        },
        "id": "sGR1DIGAOG--",
        "outputId": "15597701-7658-4325-d9bf-19e95ea68cc6"
      },
      "execution_count": null,
      "outputs": [
        {
          "output_type": "stream",
          "name": "stdout",
          "text": [
            "hello world! 123\n",
            "LETTERS 10\n",
            "DIGITS 3\n"
          ]
        }
      ]
    },
    {
      "cell_type": "code",
      "source": [
        "#Question 6\n",
        "word = input()\n",
        "upper = sum(c.isupper() for c in word)\n",
        "lower = sum(c.islower() for c in word)\n",
        "print(\"UPPER CASE\", upper)\n",
        "print(\"LOWER CASE\", lower)"
      ],
      "metadata": {
        "colab": {
          "base_uri": "https://localhost:8080/"
        },
        "id": "sWk7CtjkQy82",
        "outputId": "619e73ce-1950-486e-be72-0a1df4110963"
      },
      "execution_count": null,
      "outputs": [
        {
          "output_type": "stream",
          "name": "stdout",
          "text": [
            "Hello world!\n",
            "UPPER CASE 1\n",
            "LOWER CASE 9\n"
          ]
        }
      ]
    },
    {
      "cell_type": "code",
      "source": [
        "#Question 7\n",
        "balance = 0\n",
        "while True:\n",
        "    try:\n",
        "        line = input()\n",
        "        if not line:\n",
        "            break\n",
        "        action, amount = line.split()\n",
        "        if action == 'D':\n",
        "            balance += int(amount)\n",
        "        elif action == 'W':\n",
        "            balance -= int(amount)\n",
        "    except:\n",
        "        break\n",
        "print(balance)"
      ],
      "metadata": {
        "colab": {
          "base_uri": "https://localhost:8080/"
        },
        "id": "AumLyj9uREKG",
        "outputId": "7ddd02cd-adc0-4859-b7f8-7f2cff8d0340"
      },
      "execution_count": null,
      "outputs": [
        {
          "output_type": "stream",
          "name": "stdout",
          "text": [
            "D 300\n",
            "D 300\n",
            "W 200\n",
            "D 100\n",
            "\n",
            "500\n"
          ]
        }
      ]
    },
    {
      "cell_type": "code",
      "source": [
        "#Question 8\n",
        "import re\n",
        "passwords = input().split(',')\n",
        "valid = []\n",
        "for pwd in passwords:\n",
        "    if (6 <= len(pwd) <= 12 and\n",
        "        re.search('[a-z]', pwd) and\n",
        "        re.search('[A-Z]', pwd) and\n",
        "        re.search('[0-9]', pwd) and\n",
        "        re.search('[$#@]', pwd)):\n",
        "        valid.append(pwd)\n",
        "print(','.join(valid))"
      ],
      "metadata": {
        "colab": {
          "base_uri": "https://localhost:8080/"
        },
        "id": "TWekWVO5RhSR",
        "outputId": "d216f7be-323a-486b-de88-cd66df38b187"
      },
      "execution_count": null,
      "outputs": [
        {
          "output_type": "stream",
          "name": "stdout",
          "text": [
            "ABd1234@1,a F1#,2w3E*,2We3345\n",
            "ABd1234@1\n"
          ]
        }
      ]
    },
    {
      "cell_type": "code",
      "source": [
        "#Question 9\n",
        "data = []\n",
        "while True:\n",
        "    try:\n",
        "        line = input()\n",
        "        if not line:\n",
        "            break\n",
        "        data.append(tuple(line.split(',')))\n",
        "    except:\n",
        "        break\n",
        "data.sort(key=lambda x: (x[0], int(x[1]), int(x[2])))\n",
        "print(data)"
      ],
      "metadata": {
        "colab": {
          "base_uri": "https://localhost:8080/"
        },
        "id": "hVlbgUQMSNbO",
        "outputId": "5e1d379d-25ae-4d89-dfca-06e6a03235be"
      },
      "execution_count": null,
      "outputs": [
        {
          "output_type": "stream",
          "name": "stdout",
          "text": [
            "Tom,19,80\n",
            "John,20,90\n",
            "Jony,17,91\n",
            "Jony,17,93\n",
            "Json,21,85\n",
            "\n",
            "[('John', '20', '90'), ('Jony', '17', '91'), ('Jony', '17', '93'), ('Json', '21', '85'), ('Tom', '19', '80')]\n"
          ]
        }
      ]
    },
    {
      "cell_type": "code",
      "source": [
        "#Question 10\n",
        "import math\n",
        "x = y = 0\n",
        "while True:\n",
        "    try:\n",
        "        line = input()\n",
        "        if not line:\n",
        "            break\n",
        "        direction, step = line.split()\n",
        "        step = int(step)\n",
        "        if direction == 'UP':\n",
        "            y += step\n",
        "        elif direction == 'DOWN':\n",
        "            y -= step\n",
        "        elif direction == 'LEFT':\n",
        "            x -= step\n",
        "        elif direction == 'RIGHT':\n",
        "            x += step\n",
        "    except:\n",
        "        break\n",
        "dist = round(math.sqrt(x**2 + y**2))\n",
        "print(dist)"
      ],
      "metadata": {
        "colab": {
          "base_uri": "https://localhost:8080/"
        },
        "id": "m-F4rCZxTIb3",
        "outputId": "ac43405b-7b02-43a6-9685-52b74e4cb280"
      },
      "execution_count": null,
      "outputs": [
        {
          "output_type": "stream",
          "name": "stdout",
          "text": [
            "UP 5\n",
            "DOWN 3\n",
            "LEFT 3\n",
            "RIGHT 2\n",
            "\n",
            "2\n"
          ]
        }
      ]
    },
    {
      "cell_type": "code",
      "source": [
        "#Question 11\n",
        "s = input().lower()\n",
        "res = ''\n",
        "count = 1\n",
        "for i in range(1, len(s)):\n",
        "    if s[i] == s[i-1]:\n",
        "        count += 1\n",
        "    else:\n",
        "        res += s[i-1] + str(count)\n",
        "        count = 1\n",
        "res += s[-1] + str(count)\n",
        "print(res)"
      ],
      "metadata": {
        "colab": {
          "base_uri": "https://localhost:8080/"
        },
        "id": "DEk1979ZTh2I",
        "outputId": "16b4ff2d-e52c-4814-f004-00dc14b8e977"
      },
      "execution_count": null,
      "outputs": [
        {
          "output_type": "stream",
          "name": "stdout",
          "text": [
            "Aabbcdeefffaabbcc\n",
            "a2b2c1d1e2f3a2b2c2\n"
          ]
        }
      ]
    },
    {
      "cell_type": "code",
      "source": [
        "#Question 12\n",
        "import re\n",
        "s = input()\n",
        "matches = re.findall(r'([a-z])(\\d+)([a-z])', s)\n",
        "for a, num, b in matches:\n",
        "    if sum(int(d) for d in num) == 9:\n",
        "        print(f\"{a},{b}\")"
      ],
      "metadata": {
        "colab": {
          "base_uri": "https://localhost:8080/"
        },
        "id": "z-t7pK6TTvh3",
        "outputId": "c2ce391c-6b69-4f3a-dcb5-7a5b8bf3721d"
      },
      "execution_count": null,
      "outputs": [
        {
          "output_type": "stream",
          "name": "stdout",
          "text": [
            "a54b12c\n",
            "a,b\n"
          ]
        }
      ]
    },
    {
      "cell_type": "code",
      "source": [
        "#Question 13\n",
        "s = input()\n",
        "count = s.count('1')\n",
        "print(count * (count - 1) // 2)"
      ],
      "metadata": {
        "colab": {
          "base_uri": "https://localhost:8080/"
        },
        "id": "7oELD5k6UHN5",
        "outputId": "df879efc-fcf0-452b-f4ec-4f6fc6fa78b0"
      },
      "execution_count": null,
      "outputs": [
        {
          "output_type": "stream",
          "name": "stdout",
          "text": [
            "1001101010010\n",
            "15\n"
          ]
        }
      ]
    },
    {
      "cell_type": "code",
      "source": [
        "#Question 14\n",
        "currency_input = input(\"valid_currency: \")\n",
        "total_amount = int(input(\"Money: \"))\n",
        "\n",
        "currency_strings = currency_input.split(\",\")\n",
        "valid_denominations = []\n",
        "for value in currency_strings:\n",
        "    valid_denominations.append(int(value))\n",
        "\n",
        "valid_denominations.sort(reverse=True)\n",
        "\n",
        "for denomination in valid_denominations:\n",
        "    if total_amount >= denomination:\n",
        "        count = total_amount // denomination\n",
        "        total_amount = total_amount % denomination\n",
        "        print(f\"{denomination} - {count}\")\n"
      ],
      "metadata": {
        "colab": {
          "base_uri": "https://localhost:8080/"
        },
        "id": "qVurkLrMUO_P",
        "outputId": "4b865f7b-aa9d-4c8a-b824-d99aa6dabea2"
      },
      "execution_count": null,
      "outputs": [
        {
          "output_type": "stream",
          "name": "stdout",
          "text": [
            "valid_currency: 1,2,5,10,20,50,100,200,500,2000\n",
            "Money: 210\n",
            "200 - 1\n",
            "10 - 1\n"
          ]
        }
      ]
    },
    {
      "cell_type": "code",
      "source": [
        "#Question 15\n",
        "import math\n",
        "def comb(n, r):\n",
        "    return math.comb(n, r)\n",
        "\n",
        "n = int(input(\"n = \"))\n",
        "m = int(input(\"m = \"))\n",
        "print(comb(n - m + 1, m))"
      ],
      "metadata": {
        "colab": {
          "base_uri": "https://localhost:8080/"
        },
        "id": "l5muwG0XUPZR",
        "outputId": "c8acf38e-7011-49dc-9a83-d4822072768b"
      },
      "execution_count": null,
      "outputs": [
        {
          "output_type": "stream",
          "name": "stdout",
          "text": [
            "n = 12\n",
            "m = 4\n",
            "126\n"
          ]
        }
      ]
    },
    {
      "cell_type": "code",
      "source": [
        "#Question 16\n",
        "score_a = score_b = 0\n",
        "rules = {'Stone': 'Scissor', 'Scissor': 'Paper', 'Paper': 'Stone'}\n",
        "while score_a < 5 and score_b < 5:\n",
        "    a = input(\"Player A: \")\n",
        "    b = input(\"Player B: \")\n",
        "    if a == b:\n",
        "        print(\"DRAW\")\n",
        "    elif rules[a] == b:\n",
        "        print(\"Player A wins\")\n",
        "        score_a += 1\n",
        "    else:\n",
        "        print(\"Player B wins\")\n",
        "        score_b += 1"
      ],
      "metadata": {
        "colab": {
          "base_uri": "https://localhost:8080/"
        },
        "id": "J3fuJdwEURb8",
        "outputId": "a8f0602e-8cbb-4d02-b1d1-95e54d3a04bc"
      },
      "execution_count": null,
      "outputs": [
        {
          "output_type": "stream",
          "name": "stdout",
          "text": [
            "Player A: Stone\n",
            "Player B: Paper\n",
            "Player B wins\n",
            "Player A: Stone\n",
            "Player B: Stone\n",
            "DRAW\n",
            "Player A: Paper\n",
            "Player B: Scissor\n",
            "Player B wins\n",
            "Player A: Paper\n",
            "Player B: Scissor\n",
            "Player B wins\n",
            "Player A: Stone\n",
            "Player B: Paper\n",
            "Player B wins\n",
            "Player A: Paper\n",
            "Player B: Stone\n",
            "Player A wins\n",
            "Player A: Stone\n",
            "Player B: Paper\n",
            "Player B wins\n"
          ]
        }
      ]
    },
    {
      "cell_type": "code",
      "source": [
        "#Question 17\n",
        "import re\n",
        "email = input()\n",
        "if (email.count('@') == 1 and\n",
        "    re.match('^[a-z0-9._]+@[a-z0-9._]+$', email)):\n",
        "    print(\"Valid\")\n",
        "else:\n",
        "    print(\"Invalid\")"
      ],
      "metadata": {
        "colab": {
          "base_uri": "https://localhost:8080/"
        },
        "id": "HgiNyJpHURGs",
        "outputId": "9b82947b-ef33-49ba-d655-3643f0a7b6fe"
      },
      "execution_count": null,
      "outputs": [
        {
          "output_type": "stream",
          "name": "stdout",
          "text": [
            "dbsdv@suA\n",
            "Invalid\n"
          ]
        }
      ]
    },
    {
      "cell_type": "code",
      "source": [
        "#Question 18\n",
        "# Pattern 1\n",
        "n = int(input())\n",
        "num = 1\n",
        "for i in range(1, n+1):\n",
        "    print(' * '.join(str(num + j) for j in range(i)))\n",
        "    num += i\n",
        "\n",
        "# Pattern 2\n",
        "n = int(input())\n",
        "for i in range(n):\n",
        "    print(' '*(n-i-1), '* '* (i+1))\n",
        "for i in range(n-2, -1, -1):\n",
        "    print(' '*(n-i-1), '* '* (i+1))\n",
        "\n",
        "# Pattern 3\n",
        "n = int(input())\n",
        "num = 1\n",
        "for i in range(1, n+1):\n",
        "    print(' * '.join(str(num + j) for j in range(i)))\n",
        "    num += i\n",
        "num -= (n-1)\n",
        "for i in range(n-1, 0, -1):\n",
        "    print(' * '.join(str(num + j) for j in range(i)))\n",
        "    num -= (i-1)\n",
        "\n",
        "# Pattern G\n",
        "n = int(input())\n",
        "print(\"  ***\")\n",
        "for i in range(1, n):\n",
        "    if i == n//2:\n",
        "        print(\" * ***\")\n",
        "    elif i < n//2:\n",
        "        print(\" *\")\n",
        "    else:\n",
        "        print(\" *     *\" if i < n-1 else \"  * * *\")\n",
        "\n",
        "# Pattern: Binary border\n",
        "n = int(input())\n",
        "for i in range(n):\n",
        "    for j in range(n):\n",
        "        if i in [0, n-1] or j == n//2:\n",
        "            print(1, end=' ')\n",
        "        else:\n",
        "            print(0, end=' ')\n",
        "    print()"
      ],
      "metadata": {
        "colab": {
          "base_uri": "https://localhost:8080/"
        },
        "id": "xwcRpoFBUQ6S",
        "outputId": "25a36848-3269-4970-f5e0-0c352db19014"
      },
      "execution_count": null,
      "outputs": [
        {
          "output_type": "stream",
          "name": "stdout",
          "text": [
            "4\n",
            "1\n",
            "2 * 3\n",
            "4 * 5 * 6\n",
            "7 * 8 * 9 * 10\n",
            "4\n",
            "    * \n",
            "   * * \n",
            "  * * * \n",
            " * * * * \n",
            "  * * * \n",
            "   * * \n",
            "    * \n",
            "4\n",
            "1\n",
            "2 * 3\n",
            "4 * 5 * 6\n",
            "7 * 8 * 9 * 10\n",
            "8 * 9 * 10\n",
            "6 * 7\n",
            "5\n",
            "4\n",
            "  ***\n",
            " *\n",
            " * ***\n",
            "  * * *\n",
            "4\n",
            "1 1 1 1 \n",
            "0 0 1 0 \n",
            "0 0 1 0 \n",
            "1 1 1 1 \n"
          ]
        }
      ]
    },
    {
      "cell_type": "code",
      "source": [
        "#Question 19\n",
        "typ = int(input())\n",
        "s = input().strip(\"'\")\n",
        "times = int(input())\n",
        "\n",
        "for i in range(times):\n",
        "    if typ == 1:\n",
        "        s = s[1:] + s[0]\n",
        "    else:\n",
        "        s = s[-1] + s[:-1]\n",
        "    print(s)"
      ],
      "metadata": {
        "colab": {
          "base_uri": "https://localhost:8080/"
        },
        "id": "oOlRdp-gUQwl",
        "outputId": "bf4a2077-e7a1-4e8d-8794-348bb4f77bea"
      },
      "execution_count": null,
      "outputs": [
        {
          "output_type": "stream",
          "name": "stdout",
          "text": [
            "2\n",
            "'happy'\n",
            "3\n",
            "yhapp\n",
            "pyhap\n",
            "ppyha\n"
          ]
        }
      ]
    },
    {
      "cell_type": "code",
      "source": [
        "#Question 20\n",
        "ideal = {\"Sugar level\": 15, \"Blood pressure\": 32, \"Heartbeat rate\": 71, \"weight\": 65, \"fat percentage\": 10}\n",
        "user = {}\n",
        "for k in ideal:\n",
        "    user[k] = int(input(k + \": \"))\n",
        "diff = {k: user[k] -   ideal[k] for k in ideal}\n",
        "print(diff)\n",
        "for k, v in diff.items():\n",
        "    if v != 0:\n",
        "        print(f\"{k} {v}\")\n",
        "        if v > 0:\n",
        "            print(f\"{k} is {v} more than the ideal value\")\n",
        "        else:\n",
        "            print(f\"{k} is {abs(v)} less than the ideal value\")"
      ],
      "metadata": {
        "colab": {
          "base_uri": "https://localhost:8080/"
        },
        "id": "Cu5GT8f9UQmW",
        "outputId": "1bf11660-74be-4b16-e658-8d9c54f01b08"
      },
      "execution_count": null,
      "outputs": [
        {
          "output_type": "stream",
          "name": "stdout",
          "text": [
            "Sugar level: 56\n",
            "Blood pressure: 120\n",
            "Heartbeat rate: 45\n",
            "weight: 67\n",
            "fat percentage: 67\n",
            "{'Sugar level': 41, 'Blood pressure': 88, 'Heartbeat rate': -26, 'weight': 2, 'fat percentage': 57}\n",
            "Sugar level 41\n",
            "Sugar level is 41 more than the ideal value\n",
            "Blood pressure 88\n",
            "Blood pressure is 88 more than the ideal value\n",
            "Heartbeat rate -26\n",
            "Heartbeat rate is 26 less than the ideal value\n",
            "weight 2\n",
            "weight is 2 more than the ideal value\n",
            "fat percentage 57\n",
            "fat percentage is 57 more than the ideal value\n"
          ]
        }
      ]
    },
    {
      "cell_type": "code",
      "source": [
        "#Question 21\n",
        "n = input()\n",
        "digits = len(n)\n",
        "if sum(int(d)**digits for d in n) == int(n):\n",
        "    print(\"Armstrong number\")\n",
        "else:\n",
        "    print(\"Not Armstrong number\")"
      ],
      "metadata": {
        "colab": {
          "base_uri": "https://localhost:8080/"
        },
        "id": "RArRxhndUQcg",
        "outputId": "07bcd171-8982-41bc-9b17-a0b0c6a6c6e1"
      },
      "execution_count": null,
      "outputs": [
        {
          "output_type": "stream",
          "name": "stdout",
          "text": [
            "1634\n",
            "Armstrong number\n"
          ]
        }
      ]
    },
    {
      "cell_type": "code",
      "source": [
        "#Question 22\n",
        "n = int(input())\n",
        "binary = ''\n",
        "while n > 0:\n",
        "    binary = str(n % 2) + binary\n",
        "    n = n // 2\n",
        "print(binary)"
      ],
      "metadata": {
        "colab": {
          "base_uri": "https://localhost:8080/"
        },
        "id": "VhdM_jFUUQR0",
        "outputId": "461e024c-307c-4f6f-d74a-03bddfa0e578"
      },
      "execution_count": null,
      "outputs": [
        {
          "output_type": "stream",
          "name": "stdout",
          "text": [
            "12\n",
            "1100\n"
          ]
        }
      ]
    },
    {
      "cell_type": "code",
      "source": [
        "#Question 23\n",
        "n = int(input())\n",
        "if sum(i for i in range(1, n) if n % i == 0) == n:\n",
        "    print(\"Perfect number\")\n",
        "else:\n",
        "    print(\"Not perfect number\")"
      ],
      "metadata": {
        "colab": {
          "base_uri": "https://localhost:8080/"
        },
        "id": "ifP1JSDzUQF6",
        "outputId": "4e96215c-3d7b-4d93-81ed-f28738e26d3a"
      },
      "execution_count": null,
      "outputs": [
        {
          "output_type": "stream",
          "name": "stdout",
          "text": [
            "28\n",
            "Perfect number\n"
          ]
        }
      ]
    }
  ]
}
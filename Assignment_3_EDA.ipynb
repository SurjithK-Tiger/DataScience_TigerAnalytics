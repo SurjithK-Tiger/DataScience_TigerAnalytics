{
  "nbformat": 4,
  "nbformat_minor": 0,
  "metadata": {
    "colab": {
      "provenance": []
    },
    "kernelspec": {
      "name": "python3",
      "display_name": "Python 3"
    },
    "language_info": {
      "name": "python"
    }
  },
  "cells": [
    {
      "cell_type": "code",
      "execution_count": 2,
      "metadata": {
        "colab": {
          "base_uri": "https://localhost:8080/",
          "height": 310
        },
        "id": "h1CkpPZpIkmQ",
        "outputId": "a90e4e5d-2a42-4306-cf74-5664cec89689"
      },
      "outputs": [
        {
          "output_type": "execute_result",
          "data": {
            "text/plain": [
              "   Store  Year  Month Super Division     Sales       SGM Store Open  \\\n",
              "0      1  2015      2          GIRLS  63635.80  35692.09 1991-03-01   \n",
              "1      1  2015      2           BOYS  20872.93  15691.34 1991-03-01   \n",
              "2      1  2015      2    ACCESSORIES  38717.03  23866.25 1991-03-01   \n",
              "3      1  2015      2           KIDS  11455.00  12110.00 1991-03-01   \n",
              "4      1  2015      3          GIRLS  67507.77  42237.79 1991-03-01   \n",
              "\n",
              "     Store Close Outlet Type State Climate  Total Sq Ft  \\\n",
              "0  No Close date      Outlet    A1  Frigid       4735.0   \n",
              "1  No Close date      Outlet    A1  Frigid       4735.0   \n",
              "2  No Close date      Outlet    A1  Frigid       4735.0   \n",
              "3  No Close date      Outlet    A1  Frigid       4735.0   \n",
              "4  No Close date      Outlet    A1  Frigid       4735.0   \n",
              "\n",
              "  Store Modification Date Store Modification  \n",
              "0     2011-10-06 00:00:00         relocation  \n",
              "1     2011-10-06 00:00:00         relocation  \n",
              "2     2011-10-06 00:00:00         relocation  \n",
              "3     2011-10-06 00:00:00         relocation  \n",
              "4     2011-10-06 00:00:00         relocation  "
            ],
            "text/html": [
              "\n",
              "  <div id=\"df-a3310ef6-00df-4dd4-9f1c-c00f4122b938\" class=\"colab-df-container\">\n",
              "    <div>\n",
              "<style scoped>\n",
              "    .dataframe tbody tr th:only-of-type {\n",
              "        vertical-align: middle;\n",
              "    }\n",
              "\n",
              "    .dataframe tbody tr th {\n",
              "        vertical-align: top;\n",
              "    }\n",
              "\n",
              "    .dataframe thead th {\n",
              "        text-align: right;\n",
              "    }\n",
              "</style>\n",
              "<table border=\"1\" class=\"dataframe\">\n",
              "  <thead>\n",
              "    <tr style=\"text-align: right;\">\n",
              "      <th></th>\n",
              "      <th>Store</th>\n",
              "      <th>Year</th>\n",
              "      <th>Month</th>\n",
              "      <th>Super Division</th>\n",
              "      <th>Sales</th>\n",
              "      <th>SGM</th>\n",
              "      <th>Store Open</th>\n",
              "      <th>Store Close</th>\n",
              "      <th>Outlet Type</th>\n",
              "      <th>State</th>\n",
              "      <th>Climate</th>\n",
              "      <th>Total Sq Ft</th>\n",
              "      <th>Store Modification Date</th>\n",
              "      <th>Store Modification</th>\n",
              "    </tr>\n",
              "  </thead>\n",
              "  <tbody>\n",
              "    <tr>\n",
              "      <th>0</th>\n",
              "      <td>1</td>\n",
              "      <td>2015</td>\n",
              "      <td>2</td>\n",
              "      <td>GIRLS</td>\n",
              "      <td>63635.80</td>\n",
              "      <td>35692.09</td>\n",
              "      <td>1991-03-01</td>\n",
              "      <td>No Close date</td>\n",
              "      <td>Outlet</td>\n",
              "      <td>A1</td>\n",
              "      <td>Frigid</td>\n",
              "      <td>4735.0</td>\n",
              "      <td>2011-10-06 00:00:00</td>\n",
              "      <td>relocation</td>\n",
              "    </tr>\n",
              "    <tr>\n",
              "      <th>1</th>\n",
              "      <td>1</td>\n",
              "      <td>2015</td>\n",
              "      <td>2</td>\n",
              "      <td>BOYS</td>\n",
              "      <td>20872.93</td>\n",
              "      <td>15691.34</td>\n",
              "      <td>1991-03-01</td>\n",
              "      <td>No Close date</td>\n",
              "      <td>Outlet</td>\n",
              "      <td>A1</td>\n",
              "      <td>Frigid</td>\n",
              "      <td>4735.0</td>\n",
              "      <td>2011-10-06 00:00:00</td>\n",
              "      <td>relocation</td>\n",
              "    </tr>\n",
              "    <tr>\n",
              "      <th>2</th>\n",
              "      <td>1</td>\n",
              "      <td>2015</td>\n",
              "      <td>2</td>\n",
              "      <td>ACCESSORIES</td>\n",
              "      <td>38717.03</td>\n",
              "      <td>23866.25</td>\n",
              "      <td>1991-03-01</td>\n",
              "      <td>No Close date</td>\n",
              "      <td>Outlet</td>\n",
              "      <td>A1</td>\n",
              "      <td>Frigid</td>\n",
              "      <td>4735.0</td>\n",
              "      <td>2011-10-06 00:00:00</td>\n",
              "      <td>relocation</td>\n",
              "    </tr>\n",
              "    <tr>\n",
              "      <th>3</th>\n",
              "      <td>1</td>\n",
              "      <td>2015</td>\n",
              "      <td>2</td>\n",
              "      <td>KIDS</td>\n",
              "      <td>11455.00</td>\n",
              "      <td>12110.00</td>\n",
              "      <td>1991-03-01</td>\n",
              "      <td>No Close date</td>\n",
              "      <td>Outlet</td>\n",
              "      <td>A1</td>\n",
              "      <td>Frigid</td>\n",
              "      <td>4735.0</td>\n",
              "      <td>2011-10-06 00:00:00</td>\n",
              "      <td>relocation</td>\n",
              "    </tr>\n",
              "    <tr>\n",
              "      <th>4</th>\n",
              "      <td>1</td>\n",
              "      <td>2015</td>\n",
              "      <td>3</td>\n",
              "      <td>GIRLS</td>\n",
              "      <td>67507.77</td>\n",
              "      <td>42237.79</td>\n",
              "      <td>1991-03-01</td>\n",
              "      <td>No Close date</td>\n",
              "      <td>Outlet</td>\n",
              "      <td>A1</td>\n",
              "      <td>Frigid</td>\n",
              "      <td>4735.0</td>\n",
              "      <td>2011-10-06 00:00:00</td>\n",
              "      <td>relocation</td>\n",
              "    </tr>\n",
              "  </tbody>\n",
              "</table>\n",
              "</div>\n",
              "    <div class=\"colab-df-buttons\">\n",
              "\n",
              "  <div class=\"colab-df-container\">\n",
              "    <button class=\"colab-df-convert\" onclick=\"convertToInteractive('df-a3310ef6-00df-4dd4-9f1c-c00f4122b938')\"\n",
              "            title=\"Convert this dataframe to an interactive table.\"\n",
              "            style=\"display:none;\">\n",
              "\n",
              "  <svg xmlns=\"http://www.w3.org/2000/svg\" height=\"24px\" viewBox=\"0 -960 960 960\">\n",
              "    <path d=\"M120-120v-720h720v720H120Zm60-500h600v-160H180v160Zm220 220h160v-160H400v160Zm0 220h160v-160H400v160ZM180-400h160v-160H180v160Zm440 0h160v-160H620v160ZM180-180h160v-160H180v160Zm440 0h160v-160H620v160Z\"/>\n",
              "  </svg>\n",
              "    </button>\n",
              "\n",
              "  <style>\n",
              "    .colab-df-container {\n",
              "      display:flex;\n",
              "      gap: 12px;\n",
              "    }\n",
              "\n",
              "    .colab-df-convert {\n",
              "      background-color: #E8F0FE;\n",
              "      border: none;\n",
              "      border-radius: 50%;\n",
              "      cursor: pointer;\n",
              "      display: none;\n",
              "      fill: #1967D2;\n",
              "      height: 32px;\n",
              "      padding: 0 0 0 0;\n",
              "      width: 32px;\n",
              "    }\n",
              "\n",
              "    .colab-df-convert:hover {\n",
              "      background-color: #E2EBFA;\n",
              "      box-shadow: 0px 1px 2px rgba(60, 64, 67, 0.3), 0px 1px 3px 1px rgba(60, 64, 67, 0.15);\n",
              "      fill: #174EA6;\n",
              "    }\n",
              "\n",
              "    .colab-df-buttons div {\n",
              "      margin-bottom: 4px;\n",
              "    }\n",
              "\n",
              "    [theme=dark] .colab-df-convert {\n",
              "      background-color: #3B4455;\n",
              "      fill: #D2E3FC;\n",
              "    }\n",
              "\n",
              "    [theme=dark] .colab-df-convert:hover {\n",
              "      background-color: #434B5C;\n",
              "      box-shadow: 0px 1px 3px 1px rgba(0, 0, 0, 0.15);\n",
              "      filter: drop-shadow(0px 1px 2px rgba(0, 0, 0, 0.3));\n",
              "      fill: #FFFFFF;\n",
              "    }\n",
              "  </style>\n",
              "\n",
              "    <script>\n",
              "      const buttonEl =\n",
              "        document.querySelector('#df-a3310ef6-00df-4dd4-9f1c-c00f4122b938 button.colab-df-convert');\n",
              "      buttonEl.style.display =\n",
              "        google.colab.kernel.accessAllowed ? 'block' : 'none';\n",
              "\n",
              "      async function convertToInteractive(key) {\n",
              "        const element = document.querySelector('#df-a3310ef6-00df-4dd4-9f1c-c00f4122b938');\n",
              "        const dataTable =\n",
              "          await google.colab.kernel.invokeFunction('convertToInteractive',\n",
              "                                                    [key], {});\n",
              "        if (!dataTable) return;\n",
              "\n",
              "        const docLinkHtml = 'Like what you see? Visit the ' +\n",
              "          '<a target=\"_blank\" href=https://colab.research.google.com/notebooks/data_table.ipynb>data table notebook</a>'\n",
              "          + ' to learn more about interactive tables.';\n",
              "        element.innerHTML = '';\n",
              "        dataTable['output_type'] = 'display_data';\n",
              "        await google.colab.output.renderOutput(dataTable, element);\n",
              "        const docLink = document.createElement('div');\n",
              "        docLink.innerHTML = docLinkHtml;\n",
              "        element.appendChild(docLink);\n",
              "      }\n",
              "    </script>\n",
              "  </div>\n",
              "\n",
              "\n",
              "    <div id=\"df-64623c81-59a3-41b7-9263-4be2c35c5b7a\">\n",
              "      <button class=\"colab-df-quickchart\" onclick=\"quickchart('df-64623c81-59a3-41b7-9263-4be2c35c5b7a')\"\n",
              "                title=\"Suggest charts\"\n",
              "                style=\"display:none;\">\n",
              "\n",
              "<svg xmlns=\"http://www.w3.org/2000/svg\" height=\"24px\"viewBox=\"0 0 24 24\"\n",
              "     width=\"24px\">\n",
              "    <g>\n",
              "        <path d=\"M19 3H5c-1.1 0-2 .9-2 2v14c0 1.1.9 2 2 2h14c1.1 0 2-.9 2-2V5c0-1.1-.9-2-2-2zM9 17H7v-7h2v7zm4 0h-2V7h2v10zm4 0h-2v-4h2v4z\"/>\n",
              "    </g>\n",
              "</svg>\n",
              "      </button>\n",
              "\n",
              "<style>\n",
              "  .colab-df-quickchart {\n",
              "      --bg-color: #E8F0FE;\n",
              "      --fill-color: #1967D2;\n",
              "      --hover-bg-color: #E2EBFA;\n",
              "      --hover-fill-color: #174EA6;\n",
              "      --disabled-fill-color: #AAA;\n",
              "      --disabled-bg-color: #DDD;\n",
              "  }\n",
              "\n",
              "  [theme=dark] .colab-df-quickchart {\n",
              "      --bg-color: #3B4455;\n",
              "      --fill-color: #D2E3FC;\n",
              "      --hover-bg-color: #434B5C;\n",
              "      --hover-fill-color: #FFFFFF;\n",
              "      --disabled-bg-color: #3B4455;\n",
              "      --disabled-fill-color: #666;\n",
              "  }\n",
              "\n",
              "  .colab-df-quickchart {\n",
              "    background-color: var(--bg-color);\n",
              "    border: none;\n",
              "    border-radius: 50%;\n",
              "    cursor: pointer;\n",
              "    display: none;\n",
              "    fill: var(--fill-color);\n",
              "    height: 32px;\n",
              "    padding: 0;\n",
              "    width: 32px;\n",
              "  }\n",
              "\n",
              "  .colab-df-quickchart:hover {\n",
              "    background-color: var(--hover-bg-color);\n",
              "    box-shadow: 0 1px 2px rgba(60, 64, 67, 0.3), 0 1px 3px 1px rgba(60, 64, 67, 0.15);\n",
              "    fill: var(--button-hover-fill-color);\n",
              "  }\n",
              "\n",
              "  .colab-df-quickchart-complete:disabled,\n",
              "  .colab-df-quickchart-complete:disabled:hover {\n",
              "    background-color: var(--disabled-bg-color);\n",
              "    fill: var(--disabled-fill-color);\n",
              "    box-shadow: none;\n",
              "  }\n",
              "\n",
              "  .colab-df-spinner {\n",
              "    border: 2px solid var(--fill-color);\n",
              "    border-color: transparent;\n",
              "    border-bottom-color: var(--fill-color);\n",
              "    animation:\n",
              "      spin 1s steps(1) infinite;\n",
              "  }\n",
              "\n",
              "  @keyframes spin {\n",
              "    0% {\n",
              "      border-color: transparent;\n",
              "      border-bottom-color: var(--fill-color);\n",
              "      border-left-color: var(--fill-color);\n",
              "    }\n",
              "    20% {\n",
              "      border-color: transparent;\n",
              "      border-left-color: var(--fill-color);\n",
              "      border-top-color: var(--fill-color);\n",
              "    }\n",
              "    30% {\n",
              "      border-color: transparent;\n",
              "      border-left-color: var(--fill-color);\n",
              "      border-top-color: var(--fill-color);\n",
              "      border-right-color: var(--fill-color);\n",
              "    }\n",
              "    40% {\n",
              "      border-color: transparent;\n",
              "      border-right-color: var(--fill-color);\n",
              "      border-top-color: var(--fill-color);\n",
              "    }\n",
              "    60% {\n",
              "      border-color: transparent;\n",
              "      border-right-color: var(--fill-color);\n",
              "    }\n",
              "    80% {\n",
              "      border-color: transparent;\n",
              "      border-right-color: var(--fill-color);\n",
              "      border-bottom-color: var(--fill-color);\n",
              "    }\n",
              "    90% {\n",
              "      border-color: transparent;\n",
              "      border-bottom-color: var(--fill-color);\n",
              "    }\n",
              "  }\n",
              "</style>\n",
              "\n",
              "      <script>\n",
              "        async function quickchart(key) {\n",
              "          const quickchartButtonEl =\n",
              "            document.querySelector('#' + key + ' button');\n",
              "          quickchartButtonEl.disabled = true;  // To prevent multiple clicks.\n",
              "          quickchartButtonEl.classList.add('colab-df-spinner');\n",
              "          try {\n",
              "            const charts = await google.colab.kernel.invokeFunction(\n",
              "                'suggestCharts', [key], {});\n",
              "          } catch (error) {\n",
              "            console.error('Error during call to suggestCharts:', error);\n",
              "          }\n",
              "          quickchartButtonEl.classList.remove('colab-df-spinner');\n",
              "          quickchartButtonEl.classList.add('colab-df-quickchart-complete');\n",
              "        }\n",
              "        (() => {\n",
              "          let quickchartButtonEl =\n",
              "            document.querySelector('#df-64623c81-59a3-41b7-9263-4be2c35c5b7a button');\n",
              "          quickchartButtonEl.style.display =\n",
              "            google.colab.kernel.accessAllowed ? 'block' : 'none';\n",
              "        })();\n",
              "      </script>\n",
              "    </div>\n",
              "\n",
              "    </div>\n",
              "  </div>\n"
            ],
            "application/vnd.google.colaboratory.intrinsic+json": {
              "type": "dataframe",
              "variable_name": "df"
            }
          },
          "metadata": {},
          "execution_count": 2
        }
      ],
      "source": [
        "#Importing and Reading\n",
        "import pandas as pd\n",
        "from datetime import datetime\n",
        "df = pd.read_excel(\"Data.xlsx\")\n",
        "df.head()"
      ]
    },
    {
      "cell_type": "code",
      "source": [
        "# Parsing date columns\n",
        "df['Store Open'] = pd.to_datetime(df['Store Open'], errors='coerce')\n",
        "df['Store Close'] = pd.to_datetime(df['Store Close'], errors='coerce')\n",
        "df['Store Modification Date'] = pd.to_datetime(df['Store Modification Date'], errors='coerce')"
      ],
      "metadata": {
        "id": "cksaet2_KDqu"
      },
      "execution_count": 24,
      "outputs": []
    },
    {
      "cell_type": "markdown",
      "source": [
        "Initial Exploration"
      ],
      "metadata": {
        "id": "KjZJvgtHNpiK"
      }
    },
    {
      "cell_type": "code",
      "source": [
        "# 1. Total sales by year\n",
        "sales_by_year = df.groupby('Year')['Sales'].sum().reset_index(name='Total Sales')\n",
        "print(\"1. Total Sales by Year:\\n\", sales_by_year)"
      ],
      "metadata": {
        "colab": {
          "base_uri": "https://localhost:8080/"
        },
        "id": "Kypqlk--LY8q",
        "outputId": "962ecfdb-aee1-4eb0-a7c9-21526a7ecec3"
      },
      "execution_count": 41,
      "outputs": [
        {
          "output_type": "stream",
          "name": "stdout",
          "text": [
            "1. Total Sales by Year:\n",
            "    Year   Total Sales\n",
            "0  2015  1.627585e+09\n",
            "1  2016  1.843939e+09\n",
            "2  2017  1.651322e+09\n",
            "3  2018  1.492340e+09\n",
            "4  2019  1.471963e+09\n",
            "5  2020  6.510899e+07\n"
          ]
        }
      ]
    },
    {
      "cell_type": "code",
      "source": [
        "# 2. Number of stores opened in the year 1991\n",
        "stores_1991 = df[df['Store Open'].dt.year == 1991]['Store'].nunique()\n",
        "print(f\"2. Number of stores opened in 1991: {stores_1991}\")"
      ],
      "metadata": {
        "colab": {
          "base_uri": "https://localhost:8080/"
        },
        "id": "bWdROm59LbL6",
        "outputId": "cb567d2c-098a-4268-c0c2-2e3fff2c261b"
      },
      "execution_count": 40,
      "outputs": [
        {
          "output_type": "stream",
          "name": "stdout",
          "text": [
            "2. Number of stores opened in 1991: 4\n"
          ]
        }
      ]
    },
    {
      "cell_type": "code",
      "source": [
        "# 3. Number of stores remodelled (any type)\n",
        "remodelled_stores = df[df['Store Modification Date'].notna()]['Store'].nunique()\n",
        "print(f\"3. Number of stores remodelled: {remodelled_stores}\")"
      ],
      "metadata": {
        "colab": {
          "base_uri": "https://localhost:8080/"
        },
        "id": "mS3ucaeFLoV6",
        "outputId": "41177b80-97fc-486d-9a32-a5beb92b4e31"
      },
      "execution_count": 33,
      "outputs": [
        {
          "output_type": "stream",
          "name": "stdout",
          "text": [
            "3. Number of stores remodelled: 346\n",
            "\n"
          ]
        }
      ]
    },
    {
      "cell_type": "code",
      "source": [
        "# 4. Correlation between Sales and Total Sq Ft\n",
        "corr_sales_sqft = df['Sales'].corr(df['Total Sq Ft'])\n",
        "print(f\"4. Correlation between Sales and Total Sq Ft: {corr_sales_sqft:}\")"
      ],
      "metadata": {
        "colab": {
          "base_uri": "https://localhost:8080/"
        },
        "id": "5zTnwfojLxD2",
        "outputId": "da39c1b9-e2db-4581-fe9a-eb7c47cec3a6"
      },
      "execution_count": 39,
      "outputs": [
        {
          "output_type": "stream",
          "name": "stdout",
          "text": [
            "4. Correlation between Sales and Total Sq Ft: 0.13922544019446748\n",
            "\n"
          ]
        }
      ]
    },
    {
      "cell_type": "code",
      "source": [
        "# 5. Most profitable super division\n",
        "profit_by_div = df.groupby('Super Division')['SGM'].sum().reset_index(name='Total SGM')\n",
        "top_div = profit_by_div.loc[profit_by_div['Total SGM'].idxmax(), 'Super Division']\n",
        "print(f\"5. Most profitable Super Division: {top_div}\")"
      ],
      "metadata": {
        "colab": {
          "base_uri": "https://localhost:8080/"
        },
        "id": "YY6jDSGWL2UB",
        "outputId": "295fae71-ddd7-4906-d500-90160c847524"
      },
      "execution_count": 8,
      "outputs": [
        {
          "output_type": "stream",
          "name": "stdout",
          "text": [
            "5. Most profitable Super Division: GIRLS\n",
            "\n"
          ]
        }
      ]
    },
    {
      "cell_type": "code",
      "source": [
        "# 6. Number of active stores as of today\n",
        "active_stores = df[df['Store Close'].isna()]['Store'].nunique()\n",
        "print(f\"6. Number of active stores as of today: {active_stores}\")"
      ],
      "metadata": {
        "colab": {
          "base_uri": "https://localhost:8080/"
        },
        "id": "53sbSZA2L43E",
        "outputId": "6b6bd332-f040-4ee2-e2c5-21c08357414b"
      },
      "execution_count": 47,
      "outputs": [
        {
          "output_type": "stream",
          "name": "stdout",
          "text": [
            "6. Number of active stores as of today: 678\n"
          ]
        }
      ]
    },
    {
      "cell_type": "code",
      "source": [
        "# 7. Super division with highest average sq ft\n",
        "avg_sqft_div = df.groupby('Super Division')['Total Sq Ft'].mean().reset_index(name='Avg Sq Ft')\n",
        "top_sqft_div = avg_sqft_div.loc[avg_sqft_div['Avg Sq Ft'].idxmax(), 'Super Division']\n",
        "print(f\"7. Super Division with highest average sq ft: {top_sqft_div}\")"
      ],
      "metadata": {
        "colab": {
          "base_uri": "https://localhost:8080/"
        },
        "id": "L6lhVbp4L9nj",
        "outputId": "7f5cdcfa-a9ca-460f-d3f9-de572232b702"
      },
      "execution_count": 46,
      "outputs": [
        {
          "output_type": "stream",
          "name": "stdout",
          "text": [
            "7. Super Division with highest average sq ft: KIDS\n"
          ]
        }
      ]
    },
    {
      "cell_type": "markdown",
      "source": [
        "Advanced Insights"
      ],
      "metadata": {
        "id": "yZZvy5YINkYQ"
      }
    },
    {
      "cell_type": "code",
      "source": [
        "# Top 3 states by average sales\n",
        "state_sales = df.groupby('State')['Sales'].mean().reset_index(name='Avg Sales')\n",
        "top_states = state_sales.sort_values('Avg Sales', ascending=False).head(3)\n",
        "print(\"Top 3 States by Average Sales:\\n\", top_states)"
      ],
      "metadata": {
        "colab": {
          "base_uri": "https://localhost:8080/"
        },
        "id": "SY9TizHlMERM",
        "outputId": "30b9e783-4ef8-42a8-c7d9-8da374b2e408"
      },
      "execution_count": 42,
      "outputs": [
        {
          "output_type": "stream",
          "name": "stdout",
          "text": [
            "Top 3 States by Average Sales:\n",
            "    State     Avg Sales\n",
            "43    E4  58183.380314\n",
            "16    B6  50044.942593\n",
            "15    B5  49776.118243\n"
          ]
        }
      ]
    },
    {
      "cell_type": "code",
      "source": [
        "# Best month to open a store (highest average sales)\n",
        "month_sales = df.groupby('Month')['Sales'].mean().reset_index(name='Avg Sales')\n",
        "best_month = month_sales.loc[month_sales['Avg Sales'].idxmax(), 'Month']\n",
        "print(f\"Best month to open a store (by average sales): Month {best_month}\")"
      ],
      "metadata": {
        "colab": {
          "base_uri": "https://localhost:8080/"
        },
        "id": "wuM2MaSsMLtr",
        "outputId": "6c0c56e5-9ba2-43fe-96e3-dc8ea286b018"
      },
      "execution_count": 44,
      "outputs": [
        {
          "output_type": "stream",
          "name": "stdout",
          "text": [
            "Best month to open a store (by average sales): Month 12\n"
          ]
        }
      ]
    },
    {
      "cell_type": "code",
      "source": [
        "# Outlet-type effect on closures\n",
        "outlet_stats = df.groupby('Outlet Type').agg(\n",
        "    total_stores=('Store', 'nunique'),\n",
        "    closed_stores=('Store Close', lambda x: x.notna().sum())\n",
        ").reset_index()\n",
        "outlet_stats['Closure Rate'] = outlet_stats['closed_stores'] / outlet_stats['total_stores']\n",
        "print(\"Outlet-Type Closure Rates:\\n\", outlet_stats)"
      ],
      "metadata": {
        "colab": {
          "base_uri": "https://localhost:8080/"
        },
        "id": "e2so-HypMQms",
        "outputId": "60736f35-30f0-46be-a9b6-c637cc3aa0cd"
      },
      "execution_count": 45,
      "outputs": [
        {
          "output_type": "stream",
          "name": "stdout",
          "text": [
            "Outlet-Type Closure Rates:\n",
            "   Outlet Type  total_stores  closed_stores  Closure Rate\n",
            "0        Mall           383           5122     13.373368\n",
            "1      Outlet           110           4845     44.045455\n",
            "2       Strip           337          13786     40.908012\n"
          ]
        }
      ]
    }
  ]
}